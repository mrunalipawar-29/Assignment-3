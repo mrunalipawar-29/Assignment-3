{
  "nbformat": 4,
  "nbformat_minor": 0,
  "metadata": {
    "colab": {
      "provenance": []
    },
    "kernelspec": {
      "name": "python3",
      "display_name": "Python 3"
    },
    "language_info": {
      "name": "python"
    }
  },
  "cells": [
    {
      "cell_type": "markdown",
      "source": [
        "Class-5"
      ],
      "metadata": {
        "id": "2qP_ck9Sr3sq"
      }
    },
    {
      "cell_type": "code",
      "source": [
        "# File\n",
        "# 1.Read Mode\n",
        "# 2.Write Mode\n",
        "# 3.Append Mode"
      ],
      "metadata": {
        "id": "UBmx5KZrr8El"
      },
      "execution_count": null,
      "outputs": []
    },
    {
      "cell_type": "code",
      "source": [
        "#'r'-read mode\n",
        "file=open('a.txt','r')\n",
        "print(file.read())"
      ],
      "metadata": {
        "id": "u4GAa0VlBfIx",
        "colab": {
          "base_uri": "https://localhost:8080/"
        },
        "outputId": "511739c5-8d0b-425b-9aaa-b0aa2817817f"
      },
      "execution_count": null,
      "outputs": [
        {
          "output_type": "stream",
          "name": "stdout",
          "text": [
            "# File\n",
            "# 1.Read Mode\n",
            "# 2.Write Mode\n",
            "# 3.Append Mode\n"
          ]
        }
      ]
    },
    {
      "cell_type": "code",
      "source": [
        "# to close the file\n",
        "file.close()"
      ],
      "metadata": {
        "id": "Kfdtru05EerA"
      },
      "execution_count": null,
      "outputs": []
    },
    {
      "cell_type": "code",
      "source": [
        "# 'w'- write  mode\n",
        "# output- 27 is the length of \"file.write('This is written by the user')\" that is characters\n",
        "file=open('a.txt','w')\n",
        "file.write('This is written by the user')"
      ],
      "metadata": {
        "colab": {
          "base_uri": "https://localhost:8080/"
        },
        "id": "y7XS1iy2EjKc",
        "outputId": "0357ea6e-f70f-49e9-f3fc-8205b81ab3a0"
      },
      "execution_count": null,
      "outputs": [
        {
          "output_type": "execute_result",
          "data": {
            "text/plain": [
              "27"
            ]
          },
          "metadata": {},
          "execution_count": 10
        }
      ]
    },
    {
      "cell_type": "code",
      "source": [
        "file=open('a.txt','r')\n",
        "print(file.read())"
      ],
      "metadata": {
        "colab": {
          "base_uri": "https://localhost:8080/"
        },
        "id": "b5cBKNo7Fp0C",
        "outputId": "be3593a3-1013-49c5-b04f-99523c9f6dd2"
      },
      "execution_count": null,
      "outputs": [
        {
          "output_type": "stream",
          "name": "stdout",
          "text": [
            "This is written by the user\n"
          ]
        }
      ]
    },
    {
      "cell_type": "code",
      "source": [
        "#'a'-append mode\n",
        "#  output-33 is the length of characters\n",
        "file=open('a.txt','a')\n",
        "file.write('\\nThis is written by the developer')"
      ],
      "metadata": {
        "colab": {
          "base_uri": "https://localhost:8080/"
        },
        "id": "sDSeTKv0GfCK",
        "outputId": "bda6adb2-ace0-470f-87f1-a163ae2f97fb"
      },
      "execution_count": null,
      "outputs": [
        {
          "output_type": "execute_result",
          "data": {
            "text/plain": [
              "33"
            ]
          },
          "metadata": {},
          "execution_count": 20
        }
      ]
    },
    {
      "cell_type": "code",
      "source": [
        "file=open('a.txt','r')\n",
        "print(file.read())"
      ],
      "metadata": {
        "colab": {
          "base_uri": "https://localhost:8080/"
        },
        "id": "B0F6S27iHqjl",
        "outputId": "e5a0a29f-7990-434d-8df3-605451eeb4d8"
      },
      "execution_count": null,
      "outputs": [
        {
          "output_type": "stream",
          "name": "stdout",
          "text": [
            "This is written by the user\n",
            " This is written by developer\n",
            " This is written by the developer\n",
            " This is written by the developerThis is written by the developer\n",
            "This is written by the developer\n",
            "This is written by the developer\n"
          ]
        }
      ]
    },
    {
      "cell_type": "code",
      "source": [
        "# other way to write file\n",
        "# as file1  is use to stored the file\n",
        "with open('a.txt','r') as file1:\n",
        "  print(file1.read())"
      ],
      "metadata": {
        "colab": {
          "base_uri": "https://localhost:8080/"
        },
        "id": "SSLAuaEcI1zG",
        "outputId": "b4022dd5-0c36-41ab-969a-54166afeced2"
      },
      "execution_count": null,
      "outputs": [
        {
          "output_type": "stream",
          "name": "stdout",
          "text": [
            "This is written by the user\n",
            " This is written by developer\n",
            " This is written by the developer\n",
            " This is written by the developerThis is written by the developer\n",
            "This is written by the developer\n",
            "This is written by the developer\n"
          ]
        }
      ]
    },
    {
      "cell_type": "code",
      "source": [
        "mylines=['data\\n','details\\n','task']"
      ],
      "metadata": {
        "id": "vnOiAvrMLYk0"
      },
      "execution_count": null,
      "outputs": []
    },
    {
      "cell_type": "code",
      "source": [
        "with open('a.txt','a') as file2:\n",
        "  file2.writelines(mylines)"
      ],
      "metadata": {
        "id": "cAk2mSutLkHL"
      },
      "execution_count": null,
      "outputs": []
    },
    {
      "cell_type": "code",
      "source": [
        "with open('a.txt','r') as file2:\n",
        "  print(file2.read())"
      ],
      "metadata": {
        "colab": {
          "base_uri": "https://localhost:8080/"
        },
        "id": "DZ6L0ZmFLwkD",
        "outputId": "4d14cd57-a59f-4dbe-dc6c-8b5cca6972d3"
      },
      "execution_count": null,
      "outputs": [
        {
          "output_type": "stream",
          "name": "stdout",
          "text": [
            "This is written by the user\n",
            " This is written by developer\n",
            " This is written by the developer\n",
            " This is written by the developerThis is written by the developer\n",
            "This is written by the developer\n",
            "This is written by the developerdata\n",
            "details\n",
            "taskdata\n",
            "details\n",
            "task\n"
          ]
        }
      ]
    },
    {
      "cell_type": "code",
      "source": [
        "#Create a simple calculator\n",
        "# This function adds two numbers\n",
        "def add(x, y):\n",
        "    return x + y\n",
        "\n",
        "# This function subtracts two numbers\n",
        "def subtract(x, y):\n",
        "    return x - y\n",
        "\n",
        "# This function multiplies two numbers\n",
        "def multiply(x, y):\n",
        "    return x * y\n",
        "\n",
        "# This function divides two numbers\n",
        "def divide(x, y):\n",
        "    return x / y\n",
        "\n",
        "\n",
        "print(\"Select operation.\")\n",
        "print(\"1.Add\")\n",
        "print(\"2.Subtract\")\n",
        "print(\"3.Multiply\")\n",
        "print(\"4.Divide\")\n",
        "\n",
        "while True:\n",
        "    # take input from the user\n",
        "    choice = input(\"Enter choice(1/2/3/4): \")\n",
        "\n",
        "    # check if choice is one of the four options\n",
        "    if choice in ('1', '2', '3', '4'):\n",
        "        try:\n",
        "            num1 = float(input(\"Enter first number: \"))\n",
        "            num2 = float(input(\"Enter second number: \"))\n",
        "        except ValueError:\n",
        "            print(\"Invalid input. Please enter a number.\")\n",
        "            continue\n",
        "\n",
        "        if choice == '1':\n",
        "            print(num1, \"+\", num2, \"=\", add(num1, num2))\n",
        "\n",
        "        elif choice == '2':\n",
        "            print(num1, \"-\", num2, \"=\", subtract(num1, num2))\n",
        "\n",
        "        elif choice == '3':\n",
        "            print(num1, \"*\", num2, \"=\", multiply(num1, num2))\n",
        "\n",
        "        elif choice == '4':\n",
        "            print(num1, \"/\", num2, \"=\", divide(num1, num2))\n",
        "        \n",
        "        # check if user wants another calculation\n",
        "        # break the while loop if answer is no\n",
        "        next_calculation = input(\"Let's do next calculation? (yes/no): \")\n",
        "        if next_calculation == \"no\":\n",
        "          break\n",
        "    else:\n",
        "        print(\"Invalid Input\")"
      ],
      "metadata": {
        "colab": {
          "base_uri": "https://localhost:8080/"
        },
        "id": "9-34LM1bMOAr",
        "outputId": "a195e791-a396-42b1-9065-6034ca2b617f"
      },
      "execution_count": null,
      "outputs": [
        {
          "name": "stdout",
          "output_type": "stream",
          "text": [
            "Select operation.\n",
            "1.Add\n",
            "2.Subtract\n",
            "3.Multiply\n",
            "4.Divide\n",
            "Enter choice(1/2/3/4): 3\n",
            "Enter first number: 345\n",
            "Enter second number: 5\n",
            "345.0 * 5.0 = 1725.0\n",
            "Let's do next calculation? (yes/no): yes\n",
            "Enter choice(1/2/3/4): 2\n",
            "Enter first number: 46\n",
            "Enter second number: 9\n",
            "46.0 - 9.0 = 37.0\n",
            "Let's do next calculation? (yes/no): no\n"
          ]
        }
      ]
    },
    {
      "cell_type": "code",
      "source": [
        "# Assignment-3\n",
        "# Work on r+,w+,a+\n",
        "# r+ -This method opens the file for both reading and writing\n",
        "file=open('b.txt','r')\n",
        "print(file.read())\n",
        "with open('b.txt', 'r+') as f:\n",
        "    f.read()\n",
        "    f.write(\"new line \\n\")  "
      ],
      "metadata": {
        "colab": {
          "base_uri": "https://localhost:8080/"
        },
        "id": "ymK8FeGxOLuu",
        "outputId": "4fe35712-e67f-4ee2-913f-6526fe61f378"
      },
      "execution_count": null,
      "outputs": [
        {
          "output_type": "stream",
          "name": "stdout",
          "text": [
            "new line \n",
            "\n",
            "welcome to python 1\n",
            "welcome to python 2\n",
            "welcome to python 3\n",
            "welcome to python 4\n"
          ]
        }
      ]
    },
    {
      "cell_type": "code",
      "source": [
        "# w+ -This mode opens the file for both reading and writing. \n",
        "with open('file.txt', 'w+') as f:   # create a new file or truncates it\n",
        "    f.write(\"test 1\\n\")\n",
        "    f.write(\"test 2\\n\")\n",
        "    f.write(\"test 3\\n\")\n",
        "    f.seek(0)\n",
        "    lines=f.read()\n",
        "    print(lines)\n",
        "file=open ('b.txt','r')\n",
        "print(file.read())  "
      ],
      "metadata": {
        "colab": {
          "base_uri": "https://localhost:8080/"
        },
        "id": "mmGBv3HQPfkY",
        "outputId": "2aef290a-79a7-4b4c-8b46-bd13128a20c9"
      },
      "execution_count": null,
      "outputs": [
        {
          "output_type": "stream",
          "name": "stdout",
          "text": [
            "test 1\n",
            "test 2\n",
            "test 3\n",
            "\n",
            "new line \n",
            "\n",
            "welcome to python 1\n",
            "welcome to python 2\n",
            "welcome to python 3\n",
            "welcome to python 4new line \n",
            "\n"
          ]
        }
      ]
    },
    {
      "cell_type": "code",
      "source": [
        "# a+ - you can read and write in the file. The newly written text will be added at the end, following the previously written data.\n",
        "with open('b.txt', 'a+') as f:\n",
        "    f.seek(0)                       # file pointer at end, move to beginning\n",
        "    lines = f.readlines()           # read all and file pointer at end again\n",
        "    f.write(\"\\n\" + str(len(lines)))  "
      ],
      "metadata": {
        "id": "2E7uUJV7Ppmz"
      },
      "execution_count": null,
      "outputs": []
    },
    {
      "cell_type": "code",
      "source": [
        "file=open('b.txt','r')\n",
        "print(file.read())"
      ],
      "metadata": {
        "colab": {
          "base_uri": "https://localhost:8080/",
          "height": 183
        },
        "id": "XD7KN-SCUpTn",
        "outputId": "65126e83-01fb-49a2-ff0e-4c49b262b2dd"
      },
      "execution_count": 1,
      "outputs": [
        {
          "output_type": "error",
          "ename": "FileNotFoundError",
          "evalue": "ignored",
          "traceback": [
            "\u001b[0;31m---------------------------------------------------------------------------\u001b[0m",
            "\u001b[0;31mFileNotFoundError\u001b[0m                         Traceback (most recent call last)",
            "\u001b[0;32m<ipython-input-1-97e0811914e8>\u001b[0m in \u001b[0;36m<module>\u001b[0;34m\u001b[0m\n\u001b[0;32m----> 1\u001b[0;31m \u001b[0mfile\u001b[0m\u001b[0;34m=\u001b[0m\u001b[0mopen\u001b[0m\u001b[0;34m(\u001b[0m\u001b[0;34m'b.txt'\u001b[0m\u001b[0;34m,\u001b[0m\u001b[0;34m'r'\u001b[0m\u001b[0;34m)\u001b[0m\u001b[0;34m\u001b[0m\u001b[0;34m\u001b[0m\u001b[0m\n\u001b[0m\u001b[1;32m      2\u001b[0m \u001b[0mprint\u001b[0m\u001b[0;34m(\u001b[0m\u001b[0mfile\u001b[0m\u001b[0;34m.\u001b[0m\u001b[0mread\u001b[0m\u001b[0;34m(\u001b[0m\u001b[0;34m)\u001b[0m\u001b[0;34m)\u001b[0m\u001b[0;34m\u001b[0m\u001b[0;34m\u001b[0m\u001b[0m\n",
            "\u001b[0;31mFileNotFoundError\u001b[0m: [Errno 2] No such file or directory: 'b.txt'"
          ]
        }
      ]
    },
    {
      "cell_type": "code",
      "source": [
        "# Assignment 3\n",
        "# what is string template\n",
        "#The Python string Template is created by passing the template string to its constructor.\n",
        "# It supports $-based substitutions."
      ],
      "metadata": {
        "id": "nANcGTVV18BB"
      },
      "execution_count": 2,
      "outputs": []
    },
    {
      "cell_type": "code",
      "source": [
        "# A Simple Python template example\n",
        "from string import Template\n",
        "# Create a template that has placeholder for value of x\n",
        "t = Template('x is $x')\n",
        "# Substitute value of x in above template\n",
        "print (t.substitute({'x' : 1}))"
      ],
      "metadata": {
        "colab": {
          "base_uri": "https://localhost:8080/"
        },
        "id": "705fXabk2saw",
        "outputId": "340c801a-22b1-4e7c-831f-b8a6cdf3affe"
      },
      "execution_count": 4,
      "outputs": [
        {
          "output_type": "stream",
          "name": "stdout",
          "text": [
            "x is 1\n"
          ]
        }
      ]
    },
    {
      "cell_type": "code",
      "source": [
        "# A Python program to demonstrate the\n",
        "# working of the string template\n",
        "from string import Template\n",
        "# List Student stores the name and marks of three students\n",
        "Student = [('Ram',90), ('Ankit',78), ('Bob',92)]\n",
        "# We are creating a basic structure to print the name and\n",
        "# marks of the students.\n",
        "t = Template('Hi $name, you have got $marks marks') \n",
        "for i in Student:\n",
        "     print (t.substitute(name = i[0], marks = i[1]))"
      ],
      "metadata": {
        "colab": {
          "base_uri": "https://localhost:8080/"
        },
        "id": "iLGYCQei223w",
        "outputId": "9319cd6f-c60e-4f5d-cf51-b53b527066ae"
      },
      "execution_count": 5,
      "outputs": [
        {
          "output_type": "stream",
          "name": "stdout",
          "text": [
            "Hi Ram, you have got 90 marks\n",
            "Hi Ankit, you have got 78 marks\n",
            "Hi Bob, you have got 92 marks\n"
          ]
        }
      ]
    },
    {
      "cell_type": "code",
      "source": [],
      "metadata": {
        "id": "pb3BtwSb3Prt"
      },
      "execution_count": null,
      "outputs": []
    }
  ]
}